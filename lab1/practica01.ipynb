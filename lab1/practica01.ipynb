{
 "cells": [
  {
   "cell_type": "markdown",
   "metadata": {},
   "source": [
    "# Practica 01. \n"
   ]
  },
  {
   "cell_type": "markdown",
   "metadata": {},
   "source": [
    "Laboratorio de Computación Cuántica  \n",
    "\n",
    "*Ingeniería en Computación UNAM*\n",
    "\n",
    "\n",
    "Hecho por: Santiago Alejandro Aldo"
   ]
  },
  {
   "cell_type": "markdown",
   "metadata": {},
   "source": [
    "### Ejercicio 1. Crea un circuito cuántico con un solo qubit y aplícale 5 compuertas diferentes:\n",
    "\n"
   ]
  },
  {
   "cell_type": "markdown",
   "metadata": {},
   "source": [
    "    a) Guarda el vector de estado justo después de la creación del qubit y después de cada compuerta aplicada, muestra esos vectores de estado (en total serán 6)."
   ]
  },
  {
   "cell_type": "code",
   "execution_count": null,
   "metadata": {},
   "outputs": [
    {
     "data": {
      "image/png": "[encoded data removed]",
      "text/plain": [
       "<Figure size 1021.56x200.667 with 1 Axes>"
      ]
     },
     "execution_count": 22,
     "metadata": {},
     "output_type": "execute_result"
    }
   ],
   "source": [
    "\n",
    "from qiskit import QuantumCircuit\n",
    "circ = QuantumCircuit(1, 6)\n",
    "\n",
    "circ.measure(0, 0) # Medir qubit 0 y guardar en bit 0\n",
    "\n",
    "circ.h(0) # Compuerta Hadamard a qubit 0\n",
    "circ.measure(0, 1) # Medir qubit 0 y guardar en bit 1\n",
    "\n",
    "circ.x(0) # Compuerta X a qubit 0\n",
    "circ.measure(0, 2) # Medir qubit 0 y guardar en bit 2\n",
    "\n",
    "circ.y(0) # Compuerta Y a qubit 0\n",
    "circ.measure(0, 3) # Medir qubit 0 y guardar en bit 3\n",
    "\n",
    "circ.z(0) # Compuerta Z a qubit 0\n",
    "circ.measure(0, 4) # Medir qubit 0 y guardar en bit 4\n",
    "\n",
    "circ.s(0) # Compuerta S a qubit 0\n",
    "circ.measure(0, 5) # Medir qubit 0 y guardar en bit 5\n",
    "\n",
    "\n",
    "circ.draw('mpl')"
   ]
  },
  {
   "cell_type": "markdown",
   "metadata": {},
   "source": [
    "    b) En una celda de markdown explica que es lo que le sucede al qubit conforme se le va aplicando cada compuerta."
   ]
  },
  {
   "cell_type": "code",
   "execution_count": null,
   "metadata": {},
   "outputs": [],
   "source": [
    "from qiskit.visualization import array_to_latex\n",
    "\n"
   ]
  }
 ],
 "metadata": {
  "kernelspec": {
   "display_name": "ccuantico",
   "language": "python",
   "name": "python3"
  },
  "language_info": {
   "codemirror_mode": {
    "name": "ipython",
    "version": 3
   },
   "file_extension": ".py",
   "mimetype": "text/x-python",
   "name": "python",
   "nbconvert_exporter": "python",
   "pygments_lexer": "ipython3",
   "version": "3.13.2"
  }
 },
 "nbformat": 4,
 "nbformat_minor": 2
}
